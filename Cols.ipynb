{
 "cells": [
  {
   "attachments": {},
   "cell_type": "markdown",
   "metadata": {},
   "source": [
    "# Liste des cols selon Chap GPT\n",
    "\n",
    "- Col des Gets (1172 m)\n",
    "- Col de la Colombière (1613 m)\n",
    "- Col des Aravis (1486 m)\n",
    "- Col des Saisies (1650 m)\n",
    "- Cormet de Roselend (1967 m)\n",
    "- Col de l'Iseran (2764 m)\n",
    "- Col du Télégraphe (1566 m)\n",
    "- Col du Galibier (2642 m)\n",
    "- Col d'Izoard (2361 m)\n",
    "- Col de Vars (2108 m)\n",
    "- Col de la Cayolle (2326 m)\n",
    "- Col de la Bonette (2715 m)\n",
    "- Col Saint-Martin (1500 m)\n",
    "- Col de Turini (1607 m)"
   ]
  },
  {
   "cell_type": "code",
   "execution_count": 1,
   "metadata": {},
   "outputs": [
    {
     "data": {
      "application/vnd.jupyter.widget-view+json": {
       "model_id": "83e9bf6ad9374062bee7f306ab285444",
       "version_major": 2,
       "version_minor": 0
      },
      "text/plain": [
       "Map(center=[46.008412562743096, 6.47954765430265], controls=(ZoomControl(options=['position', 'zoom_in_text', …"
      ]
     },
     "metadata": {},
     "output_type": "display_data"
    }
   ],
   "source": [
    "from ipyleaflet import Map, Marker\n",
    "\n",
    "center = (46.008412562743096, 6.47954765430265)\n",
    "\n",
    "ColGet = (46.160400417834, 6.669132134337911)\n",
    "ColColombiere = (45.992274449271356, 6.475708965338068)\n",
    "\n",
    "m = Map(center=center, zoom=9)\n",
    "\n",
    "#marker = Marker(location=center, draggable=True)\n",
    "m.add_layer(Marker(location=ColGet, draggable=False));\n",
    "m.add_layer(Marker(location=ColColombiere, draggable=False));\n",
    "\n",
    "display(m)\n",
    "\n",
    "# Now that the marker is on the Map, you can drag it with your mouse,\n",
    "# it will automatically update the `marker.location` attribute in Python\n",
    "\n",
    "# You can also update the marker location from Python, that will update the\n",
    "# marker location on the Map:\n",
    "#marker.location = ColGet"
   ]
  }
 ],
 "metadata": {
  "kernelspec": {
   "display_name": "Python 3.10.8 ('base')",
   "language": "python",
   "name": "python3"
  },
  "language_info": {
   "codemirror_mode": {
    "name": "ipython",
    "version": 3
   },
   "file_extension": ".py",
   "mimetype": "text/x-python",
   "name": "python",
   "nbconvert_exporter": "python",
   "pygments_lexer": "ipython3",
   "version": "3.11.3"
  },
  "orig_nbformat": 4,
  "vscode": {
   "interpreter": {
    "hash": "ee6caead5236fc6756f06e0b3fe49e9901cc31d5f0097256ed6214305ffb5b7b"
   }
  }
 },
 "nbformat": 4,
 "nbformat_minor": 2
}
