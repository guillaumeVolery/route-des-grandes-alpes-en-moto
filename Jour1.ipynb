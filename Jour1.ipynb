{
 "cells": [
  {
   "attachments": {},
   "cell_type": "markdown",
   "metadata": {},
   "source": [
    "# Jour 1\n",
    "\n",
    "## Road book\n",
    "\n",
    "- **Départ : Domicile**\n",
    "- Metting: Forel (Station-shop Jubin) : 46.52953920748138, 6.7698977799827835\n",
    "- Étape 1: KM 0 à Thonon (46.373212, 6.478129)\n",
    "- Étape 2: La Baume\n",
    "- Étape 3: Les Gets\n",
    "- Étape 4: Col des Gets\n",
    "- Étape 5: Cluse\n",
    "- Étape 6: Le Reposoir\n",
    "- Étape 7: Col de la Colombière\n",
    "- Étape 8: Les Sixt\n",
    "- Étape 9: La Clusaz\n",
    "- Étape 10: Col des Aravis\n",
    "- Étape 11: Flumet\n",
    "- Étape 12: Col des Saisies\n",
    "- **Arrivée: Beaufort**\n",
    "\n",
    "### Distance\n",
    "\n",
    "256 km (depuis Aumont)\n",
    "\n",
    "### Lien Calimoto\n",
    "\n",
    "https://calimoto.com/calimotour/rga-jour-1-r-tkofsgu1uK\n",
    "\n",
    "## Road book bonus\n",
    "\n",
    "- Départ : Beaufort\n",
    "- Etape 1: Barrage St Guérin\n",
    "- Étape 2: Barrage de Roselend\n",
    "- Étape 3: Barrage de la Gittaz\n",
    "- Arrivée: Beaufort\n",
    "\n",
    "### Distance\n",
    "\n",
    "41 km\n",
    "\n",
    "### Lien Calimoto\n",
    "\n",
    "https://calimoto.com/calimotour/rga-jour-1-bonus-r-H4JK4hMQyS\n",
    "\n",
    "## Hôtel\n",
    "\n",
    "- Nom: Hôtel du Grand Mont\n",
    "- Adresse: +33 04 79 38 33 36\n",
    "- Téléphone: 4 Place de l'Eglise\n",
    "- Tarif: Chambre double à partir de 90 €.\n",
    "- Site web: https://www.lebeaufortain.com/fiches/hotel-du-grand-mont/"
   ]
  },
  {
   "cell_type": "code",
   "execution_count": 1,
   "metadata": {},
   "outputs": [
    {
     "data": {
      "application/vnd.jupyter.widget-view+json": {
       "model_id": "9287d95b8f7b463eb06c692d30c1ea1e",
       "version_major": 2,
       "version_minor": 0
      },
      "text/plain": [
       "Map(center=[52.204793, 360.121558], controls=(ZoomControl(options=['position', 'zoom_in_text', 'zoom_in_title'…"
      ]
     },
     "metadata": {},
     "output_type": "display_data"
    }
   ],
   "source": [
    "from ipyleaflet import Map, Marker\n",
    "\n",
    "center = (52.204793, 360.121558)\n",
    "\n",
    "m = Map(center=center, zoom=15)\n",
    "\n",
    "marker = Marker(location=center, draggable=True)\n",
    "m.add_layer(marker);\n",
    "\n",
    "display(m)\n",
    "\n",
    "# Now that the marker is on the Map, you can drag it with your mouse,\n",
    "# it will automatically update the `marker.location` attribute in Python\n",
    "\n",
    "# You can also update the marker location from Python, that will update the\n",
    "# marker location on the Map:\n",
    "marker.location = (50, 356)"
   ]
  }
 ],
 "metadata": {
  "kernelspec": {
   "display_name": "Python 3.11.3 64-bit (microsoft store)",
   "language": "python",
   "name": "python3"
  },
  "language_info": {
   "codemirror_mode": {
    "name": "ipython",
    "version": 3
   },
   "file_extension": ".py",
   "mimetype": "text/x-python",
   "name": "python",
   "nbconvert_exporter": "python",
   "pygments_lexer": "ipython3",
   "version": "3.10.11"
  },
  "orig_nbformat": 4,
  "vscode": {
   "interpreter": {
    "hash": "0c5592f198bb11e230172b9bf12b2a1bf7c04f7c18c8a7753638df444dfdad82"
   }
  }
 },
 "nbformat": 4,
 "nbformat_minor": 2
}
