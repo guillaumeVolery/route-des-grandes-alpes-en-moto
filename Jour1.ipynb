{
 "cells": [
  {
   "attachments": {},
   "cell_type": "markdown",
   "metadata": {},
   "source": [
    "# Jour 1\n",
    "\n",
    "## Trajet\n",
    "\n",
    "- Départ: Domicile\n",
    "- Metting: Forel (Station-shop Jubin) : 46.52953920748138, 6.7698977799827835\n",
    "- Étape 0: KM 0 à Thonon : 46.373212, 6.478129\n",
    "- Étape 1: Col de ...\n",
    "- Étape 2: Col de ...\n",
    "- Étape 3: Col de ...\n",
    "- Étape 4: Col de ...\n",
    "- Étape 5: Col de ...\n",
    "- Arrivée: Ville\n",
    "\n",
    "## Bonus optionnel\n",
    "\n",
    "Détour...\n",
    "\n",
    "## Distance\n",
    "\n",
    "Forel -> Etape 0 : 65.8 km\n",
    "\n",
    "\n",
    "Kilomètres parcouru:\n",
    "\n",
    "## Hôtel, BnB\n",
    "\n",
    "Nom et adresse de l'hotel"
   ]
  },
  {
   "cell_type": "code",
   "execution_count": 3,
   "metadata": {},
   "outputs": [
    {
     "data": {
      "application/vnd.jupyter.widget-view+json": {
       "model_id": "e5588626a7994732bd87ac81f42f563d",
       "version_major": 2,
       "version_minor": 0
      },
      "text/plain": [
       "Map(center=[52.204793, 360.121558], controls=(ZoomControl(options=['position', 'zoom_in_text', 'zoom_in_title'…"
      ]
     },
     "metadata": {},
     "output_type": "display_data"
    }
   ],
   "source": [
    "from ipyleaflet import Map, Marker\n",
    "\n",
    "center = (52.204793, 360.121558)\n",
    "\n",
    "m = Map(center=center, zoom=15)\n",
    "\n",
    "marker = Marker(location=center, draggable=True)\n",
    "m.add_layer(marker);\n",
    "\n",
    "display(m)\n",
    "\n",
    "# Now that the marker is on the Map, you can drag it with your mouse,\n",
    "# it will automatically update the `marker.location` attribute in Python\n",
    "\n",
    "# You can also update the marker location from Python, that will update the\n",
    "# marker location on the Map:\n",
    "marker.location = (50, 356)"
   ]
  }
 ],
 "metadata": {
  "kernelspec": {
   "display_name": "Python 3.11.3 64-bit (microsoft store)",
   "language": "python",
   "name": "python3"
  },
  "language_info": {
   "codemirror_mode": {
    "name": "ipython",
    "version": 3
   },
   "file_extension": ".py",
   "mimetype": "text/x-python",
   "name": "python",
   "nbconvert_exporter": "python",
   "pygments_lexer": "ipython3",
   "version": "3.11.3"
  },
  "orig_nbformat": 4,
  "vscode": {
   "interpreter": {
    "hash": "0c5592f198bb11e230172b9bf12b2a1bf7c04f7c18c8a7753638df444dfdad82"
   }
  }
 },
 "nbformat": 4,
 "nbformat_minor": 2
}
